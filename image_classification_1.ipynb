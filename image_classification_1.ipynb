{
 "cells": [
  {
   "cell_type": "code",
   "execution_count": 30,
   "id": "90b9d89d",
   "metadata": {},
   "outputs": [],
   "source": [
    "#Description: This program classifies images"
   ]
  },
  {
   "cell_type": "code",
   "execution_count": 31,
   "id": "3df80ae4",
   "metadata": {},
   "outputs": [],
   "source": [
    "#Import libraries\n",
    "import tensorflow as tf\n",
    "from tensorflow.keras import datasets, layers, models\n",
    "import matplotlib.pyplot as plt\n",
    "import numpy as np"
   ]
  },
  {
   "cell_type": "code",
   "execution_count": 32,
   "id": "d506391d",
   "metadata": {},
   "outputs": [
    {
     "data": {
      "text/plain": [
       "(50000, 32, 32, 3)"
      ]
     },
     "execution_count": 32,
     "metadata": {},
     "output_type": "execute_result"
    }
   ],
   "source": [
    "#Load the data\n",
    "(X_train, Y_train), (X_test, Y_test) = datasets.cifar10.load_data()\n",
    "X_train.shape"
   ]
  },
  {
   "cell_type": "code",
   "execution_count": 33,
   "id": "2bfb2e2e",
   "metadata": {},
   "outputs": [
    {
     "data": {
      "text/plain": [
       "(10000, 32, 32, 3)"
      ]
     },
     "execution_count": 33,
     "metadata": {},
     "output_type": "execute_result"
    }
   ],
   "source": [
    "X_test.shape"
   ]
  },
  {
   "cell_type": "code",
   "execution_count": 34,
   "id": "babc1b80",
   "metadata": {},
   "outputs": [
    {
     "data": {
      "text/plain": [
       "array([6, 9, 9, 4, 1], dtype=uint8)"
      ]
     },
     "execution_count": 34,
     "metadata": {},
     "output_type": "execute_result"
    }
   ],
   "source": [
    "y_train[:5]"
   ]
  },
  {
   "cell_type": "code",
   "execution_count": 35,
   "id": "392ef02e",
   "metadata": {},
   "outputs": [
    {
     "data": {
      "text/plain": [
       "array([6, 9, 9, 4, 1], dtype=uint8)"
      ]
     },
     "execution_count": 35,
     "metadata": {},
     "output_type": "execute_result"
    }
   ],
   "source": [
    "Y_train = Y_train.reshape(-1)\n",
    "Y_train[:5]"
   ]
  },
  {
   "cell_type": "code",
   "execution_count": 36,
   "id": "22f80f48",
   "metadata": {},
   "outputs": [],
   "source": [
    "Y_test = Y_test.reshape(-1)"
   ]
  },
  {
   "cell_type": "code",
   "execution_count": 37,
   "id": "6a073f16",
   "metadata": {},
   "outputs": [],
   "source": [
    "classes = [\"airplane\", \"automobile\", \"bird\", \"cat\", \"deer\", \"dog\", \"frog\", \"horse\", \"ship\", \"truck\"] "
   ]
  },
  {
   "cell_type": "code",
   "execution_count": 38,
   "id": "ac9e1919",
   "metadata": {},
   "outputs": [],
   "source": [
    "def plot_sample(x, y, index):\n",
    "    plt.figure(figsize = (15,2))\n",
    "    plt.imshow(x_train[1])\n",
    "    plt.xlabel(classes[y[index]])"
   ]
  },
  {
   "cell_type": "code",
   "execution_count": 40,
   "id": "b1166ce0",
   "metadata": {},
   "outputs": [
    {
     "data": {
      "image/png": "[encoded data removed]",
      "text/plain": [
       "<Figure size 1080x144 with 1 Axes>"
      ]
     },
     "metadata": {
      "needs_background": "light"
     },
     "output_type": "display_data"
    }
   ],
   "source": [
    "    plot_sample(X_train, Y_train, 0)"
   ]
  },
  {
   "cell_type": "code",
   "execution_count": 41,
   "id": "7bc72678",
   "metadata": {},
   "outputs": [
    {
     "data": {
      "image/png": "[encoded data removed]",
      "text/plain": [
       "<Figure size 1080x144 with 1 Axes>"
      ]
     },
     "metadata": {
      "needs_background": "light"
     },
     "output_type": "display_data"
    }
   ],
   "source": [
    "plot_sample(X_train, Y_train, 1)"
   ]
  },
  {
   "cell_type": "code",
   "execution_count": 42,
   "id": "f78a8f74",
   "metadata": {},
   "outputs": [],
   "source": [
    "X_train = X_train / 255\n",
    "X_test = X_test / 255.0"
   ]
  },
  {
   "cell_type": "code",
   "execution_count": 15,
   "id": "383d8ee5",
   "metadata": {},
   "outputs": [
    {
     "name": "stdout",
     "output_type": "stream",
     "text": [
      "Epoch 1/5\n",
      "1563/1563 [==============================] - 124s 79ms/step - loss: 1.8594 - accuracy: 0.3359\n",
      "Epoch 2/5\n",
      "1563/1563 [==============================] - 119s 76ms/step - loss: 1.6563 - accuracy: 0.4137\n",
      "Epoch 3/5\n",
      "1563/1563 [==============================] - 118s 75ms/step - loss: 1.5702 - accuracy: 0.4462\n",
      "Epoch 4/5\n",
      "1563/1563 [==============================] - 118s 76ms/step - loss: 1.5090 - accuracy: 0.4664\n",
      "Epoch 5/5\n",
      "1563/1563 [==============================] - 118s 75ms/step - loss: 1.4576 - accuracy: 0.4867s - loss: 1.4\n"
     ]
    },
    {
     "data": {
      "text/plain": [
       "<tensorflow.python.keras.callbacks.History at 0x280a627e700>"
      ]
     },
     "execution_count": 15,
     "metadata": {},
     "output_type": "execute_result"
    }
   ],
   "source": [
    "ann = models.Sequential([\n",
    "    layers.Flatten(input_shape=(32,32,3)),\n",
    "    layers.Dense(3000, activation='relu'),\n",
    "    layers.Dense(1000, activation='relu'),\n",
    "    layers.Dense(10, activation='sigmoid')\n",
    "])\n",
    "\n",
    "ann.compile(optimizer='SGD',\n",
    "           loss='sparse_categorical_crossentropy',\n",
    "           metrics=['accuracy'])\n",
    "\n",
    "ann.fit(X_train, Y_train, epochs=5)"
   ]
  },
  {
   "cell_type": "code",
   "execution_count": 43,
   "id": "71fe48d3",
   "metadata": {},
   "outputs": [
    {
     "name": "stdout",
     "output_type": "stream",
     "text": [
      "Classification Report: \n",
      "               precision    recall  f1-score   support\n",
      "\n",
      "           0       0.62      0.47      0.53      1000\n",
      "           1       0.64      0.53      0.58      1000\n",
      "           2       0.25      0.66      0.37      1000\n",
      "           3       0.39      0.25      0.30      1000\n",
      "           4       0.54      0.18      0.27      1000\n",
      "           5       0.46      0.31      0.37      1000\n",
      "           6       0.52      0.51      0.52      1000\n",
      "           7       0.64      0.44      0.52      1000\n",
      "           8       0.64      0.63      0.63      1000\n",
      "           9       0.45      0.69      0.55      1000\n",
      "\n",
      "    accuracy                           0.47     10000\n",
      "   macro avg       0.52      0.47      0.46     10000\n",
      "weighted avg       0.52      0.47      0.46     10000\n",
      "\n"
     ]
    }
   ],
   "source": [
    "from sklearn.metrics import confusion_matrix, classification_report\n",
    "import numpy as np\n",
    "Y_pred = ann.predict(X_test)\n",
    "Y_pred_classes = [np.argmax(element) for element in Y_pred]\n",
    "\n",
    "print(\"Classification Report: \\n\", classification_report(Y_test, Y_pred_classes))"
   ]
  },
  {
   "cell_type": "code",
   "execution_count": 44,
   "id": "5beb1de6",
   "metadata": {},
   "outputs": [],
   "source": [
    "cnn = models.Sequential([\n",
    "    #cnn\n",
    "    layers.Conv2D(filters=32, kernel_size=(3,3), activation='relu', input_shape=(32,32,3)),\n",
    "    layers.MaxPooling2D((2,2)),\n",
    "    \n",
    "    layers.Conv2D(filters=64, kernel_size=(3,3), activation='relu'),\n",
    "    layers.MaxPooling2D((2,2)),\n",
    "    \n",
    "    #dense\n",
    "    layers.Flatten(),\n",
    "    layers.Dense(64, activation='relu'),\n",
    "    layers.Dense(10, activation='softmax')\n",
    "])"
   ]
  },
  {
   "cell_type": "code",
   "execution_count": 45,
   "id": "0ca453ea",
   "metadata": {},
   "outputs": [],
   "source": [
    "cnn.compile(optimizer='adam',\n",
    "           loss='sparse_categorical_crossentropy',\n",
    "           metrics=['accuracy'])"
   ]
  },
  {
   "cell_type": "code",
   "execution_count": 19,
   "id": "af397b1d",
   "metadata": {},
   "outputs": [
    {
     "name": "stdout",
     "output_type": "stream",
     "text": [
      "Epoch 1/10\n",
      "1563/1563 [==============================] - 26s 16ms/step - loss: 1.4593 - accuracy: 0.4737\n",
      "Epoch 2/10\n",
      "1563/1563 [==============================] - 26s 16ms/step - loss: 1.1161 - accuracy: 0.6112\n",
      "Epoch 3/10\n",
      "1563/1563 [==============================] - 25s 16ms/step - loss: 0.9880 - accuracy: 0.6557\n",
      "Epoch 4/10\n",
      "1563/1563 [==============================] - 25s 16ms/step - loss: 0.9030 - accuracy: 0.6875\n",
      "Epoch 5/10\n",
      "1563/1563 [==============================] - 25s 16ms/step - loss: 0.8391 - accuracy: 0.7096\n",
      "Epoch 6/10\n",
      "1563/1563 [==============================] - 29s 18ms/step - loss: 0.7829 - accuracy: 0.7275\n",
      "Epoch 7/10\n",
      "1563/1563 [==============================] - 26s 17ms/step - loss: 0.7344 - accuracy: 0.7458\n",
      "Epoch 8/10\n",
      "1563/1563 [==============================] - 25s 16ms/step - loss: 0.6906 - accuracy: 0.7590\n",
      "Epoch 9/10\n",
      "1563/1563 [==============================] - 25s 16ms/step - loss: 0.6481 - accuracy: 0.7742\n",
      "Epoch 10/10\n",
      "1563/1563 [==============================] - 25s 16ms/step - loss: 0.6161 - accuracy: 0.7833\n"
     ]
    },
    {
     "data": {
      "text/plain": [
       "<tensorflow.python.keras.callbacks.History at 0x280a96fd0a0>"
      ]
     },
     "execution_count": 19,
     "metadata": {},
     "output_type": "execute_result"
    }
   ],
   "source": [
    "cnn.fit(X_train, Y_train, epochs=10)"
   ]
  },
  {
   "cell_type": "code",
   "execution_count": 20,
   "id": "97ba8fb4",
   "metadata": {},
   "outputs": [
    {
     "name": "stdout",
     "output_type": "stream",
     "text": [
      "313/313 [==============================] - 2s 5ms/step - loss: 0.9309 - accuracy: 0.6985\n"
     ]
    },
    {
     "data": {
      "text/plain": [
       "[0.9309031963348389, 0.6984999775886536]"
      ]
     },
     "execution_count": 20,
     "metadata": {},
     "output_type": "execute_result"
    }
   ],
   "source": [
    "cnn.evaluate(X_test, Y_test)"
   ]
  },
  {
   "cell_type": "code",
   "execution_count": 22,
   "id": "b913fdef",
   "metadata": {},
   "outputs": [
    {
     "data": {
      "text/plain": [
       "array([[1.3269312e-03, 4.5135166e-05, 4.0875864e-04, 9.7424501e-01,\n",
       "        1.7887809e-04, 1.4607941e-02, 4.8955814e-03, 4.2657426e-05,\n",
       "        4.2246426e-03, 2.4385385e-05],\n",
       "       [5.2452984e-04, 3.8749896e-02, 2.7652907e-06, 7.5190081e-07,\n",
       "        3.1136068e-08, 1.2319346e-07, 1.4762265e-09, 3.0965575e-07,\n",
       "        9.6024245e-01, 4.7921040e-04],\n",
       "       [6.1515763e-02, 2.0396955e-02, 1.0951388e-03, 2.5482723e-03,\n",
       "        2.2052386e-04, 3.3382716e-04, 1.2374490e-04, 2.5979622e-04,\n",
       "        8.8136852e-01, 3.2137506e-02],\n",
       "       [9.7097677e-01, 2.4565265e-03, 1.1643455e-03, 1.2693226e-03,\n",
       "        7.7979928e-03, 2.5018328e-05, 9.5489568e-06, 1.7597271e-05,\n",
       "        1.6128790e-02, 1.5423131e-04],\n",
       "       [1.6173298e-06, 3.0751821e-06, 1.1949481e-02, 2.2789853e-02,\n",
       "        4.2402800e-02, 2.3982183e-03, 9.2044741e-01, 1.8998209e-06,\n",
       "        5.3942208e-06, 3.2934940e-07]], dtype=float32)"
      ]
     },
     "execution_count": 22,
     "metadata": {},
     "output_type": "execute_result"
    }
   ],
   "source": [
    "Y_pred = cnn.predict(X_test)\n",
    "Y_pred[:5]"
   ]
  },
  {
   "cell_type": "code",
   "execution_count": 23,
   "id": "a3e0cb55",
   "metadata": {},
   "outputs": [
    {
     "data": {
      "text/plain": [
       "[3, 8, 8, 0, 6]"
      ]
     },
     "execution_count": 23,
     "metadata": {},
     "output_type": "execute_result"
    }
   ],
   "source": [
    "Y_classes = [np.argmax(element) for element in Y_pred]\n",
    "Y_classes[:5]"
   ]
  },
  {
   "cell_type": "code",
   "execution_count": 24,
   "id": "23dc49fb",
   "metadata": {},
   "outputs": [
    {
     "data": {
      "text/plain": [
       "array([3, 8, 8, 0, 6], dtype=uint8)"
      ]
     },
     "execution_count": 24,
     "metadata": {},
     "output_type": "execute_result"
    }
   ],
   "source": [
    "Y_test[:5]"
   ]
  },
  {
   "cell_type": "code",
   "execution_count": 25,
   "id": "7667db8f",
   "metadata": {},
   "outputs": [
    {
     "data": {
      "image/png": "[encoded data removed]",
      "text/plain": [
       "<Figure size 1080x144 with 1 Axes>"
      ]
     },
     "metadata": {
      "needs_background": "light"
     },
     "output_type": "display_data"
    }
   ],
   "source": [
    "plt_sample(X_test, Y_test, 3)"
   ]
  },
  {
   "cell_type": "code",
   "execution_count": 26,
   "id": "9fde4899",
   "metadata": {},
   "outputs": [
    {
     "data": {
      "text/plain": [
       "'airplane'"
      ]
     },
     "execution_count": 26,
     "metadata": {},
     "output_type": "execute_result"
    }
   ],
   "source": [
    "classes[y_classes[3]]"
   ]
  },
  {
   "cell_type": "code",
   "execution_count": 28,
   "id": "0eb37b29",
   "metadata": {},
   "outputs": [
    {
     "data": {
      "text/plain": [
       "'airplane'"
      ]
     },
     "execution_count": 28,
     "metadata": {},
     "output_type": "execute_result"
    }
   ],
   "source": [
    "classes[y_classes[3]]"
   ]
  }
 ],
 "metadata": {
  "kernelspec": {
   "display_name": "Python 3 (ipykernel)",
   "language": "python",
   "name": "python3"
  },
  "language_info": {
   "codemirror_mode": {
    "name": "ipython",
    "version": 3
   },
   "file_extension": ".py",
   "mimetype": "text/x-python",
   "name": "python",
   "nbconvert_exporter": "python",
   "pygments_lexer": "ipython3",
   "version": "3.8.12"
  }
 },
 "nbformat": 4,
 "nbformat_minor": 5
}
